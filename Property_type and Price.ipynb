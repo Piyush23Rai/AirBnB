{
 "cells": [
  {
   "cell_type": "code",
   "execution_count": 6,
   "id": "industrial-peace",
   "metadata": {},
   "outputs": [],
   "source": [
    "#importing necessary libraries\n",
    "import numpy as np\n",
    "import pandas as pd\n",
    "import utilities as u\n",
    "import matplotlib.pyplot as plt\n",
    "\n",
    "#reading csv files into data frames\n",
    "df_seattle = pd.read_csv('./SEATTLE/listings.csv')\n",
    "df_boston = pd.read_csv('./BOSTON/listings.csv')"
   ]
  },
  {
   "cell_type": "code",
   "execution_count": 7,
   "id": "egyptian-baking",
   "metadata": {},
   "outputs": [],
   "source": [
    "#removing text columns from the dataframes\n",
    "df_bost_clean = df_boston.drop(['id','listing_url','scrape_id','last_scraped','name','summary','space','description','experiences_offered','transit', \n",
    "                'neighborhood_overview','notes','access','thumbnail_url','host_url','medium_url',\n",
    "                'picture_url', 'house_rules','interaction','xl_picture_url','host_id','host_name','host_location',\n",
    "                'host_about','host_thumbnail_url','host_picture_url', 'street','state','zipcode', 'market',\n",
    "                 'smart_location','country_code','country','license', 'jurisdiction_names'], axis=1)\n",
    "\n",
    "df_seat_clean = df_seattle.drop(['id','listing_url','scrape_id','last_scraped','name',\n",
    "                'summary','space','description','experiences_offered','transit', \n",
    "         'neighborhood_overview','notes','thumbnail_url','host_url','medium_url',\n",
    "        'picture_url','xl_picture_url','host_id','host_name','host_location',\n",
    "        'host_about','host_thumbnail_url','host_picture_url', 'street','state','zipcode', 'market',\n",
    "         'smart_location','country_code','country','license', 'jurisdiction_names'], axis=1)"
   ]
  },
  {
   "cell_type": "code",
   "execution_count": 8,
   "id": "wicked-limit",
   "metadata": {},
   "outputs": [],
   "source": [
    "#convert all amount columns into numeric value\n",
    "df_bost = u.convert_amount(df_bost_clean.copy(), ['security_deposit','price','monthly_price','cleaning_fee','weekly_price', 'extra_people'])\n",
    "df_seat = u.convert_amount(df_seat_clean.copy(), ['security_deposit','price','monthly_price','cleaning_fee','weekly_price', 'extra_people'])"
   ]
  },
  {
   "cell_type": "code",
   "execution_count": 9,
   "id": "light-involvement",
   "metadata": {},
   "outputs": [],
   "source": [
    "#drop all columns where property type is na\n",
    "df_bost_clean = df_bost.dropna(subset=['property_type'],axis=0)\n",
    "df_seat_clean = df_seat.dropna(subset=['property_type'],axis=0)"
   ]
  },
  {
   "cell_type": "code",
   "execution_count": 11,
   "id": "minimal-affiliate",
   "metadata": {},
   "outputs": [
    {
     "data": {
      "text/plain": [
       "0       250.0\n",
       "1        65.0\n",
       "2        65.0\n",
       "3        75.0\n",
       "4        79.0\n",
       "        ...  \n",
       "3580     69.0\n",
       "3581    150.0\n",
       "3582    198.0\n",
       "3583     65.0\n",
       "3584     65.0\n",
       "Name: price, Length: 3582, dtype: float64"
      ]
     },
     "execution_count": 11,
     "metadata": {},
     "output_type": "execute_result"
    }
   ],
   "source": [
    "df_bost_clean['price']\n",
    "#'monthly_price','weekly_price']"
   ]
  },
  {
   "cell_type": "code",
   "execution_count": 13,
   "id": "recognized-soccer",
   "metadata": {},
   "outputs": [
    {
     "name": "stderr",
     "output_type": "stream",
     "text": [
      "/usr/lib/python3/dist-packages/pandas/core/generic.py:6245: SettingWithCopyWarning: \n",
      "A value is trying to be set on a copy of a slice from a DataFrame\n",
      "\n",
      "See the caveats in the documentation: https://pandas.pydata.org/pandas-docs/stable/user_guide/indexing.html#returning-a-view-versus-a-copy\n",
      "  self._update_inplace(new_data)\n"
     ]
    }
   ],
   "source": [
    "#fill all na price columns with mean\n",
    "df_bost_final = pd.concat([u.fill_nan_data(df_bost_clean[['price','monthly_price','weekly_price']],False),df_bost_clean['property_type']],axis=1)\n",
    "df_seat_final = pd.concat([u.fill_nan_data(df_seat_clean[['price','monthly_price','weekly_price']],False),df_seat_clean['property_type']],axis=1)"
   ]
  },
  {
   "cell_type": "code",
   "execution_count": 14,
   "id": "coupled-ladder",
   "metadata": {},
   "outputs": [],
   "source": [
    "#propert_type count\n",
    "prop_bost = df_bost_final['property_type'].value_counts().to_frame(name='Property_type_count_Boston').reset_index()\n",
    "prop_seat = df_seat_final['property_type'].value_counts().to_frame(name='Property_type_count_Seattle').reset_index()"
   ]
  },
  {
   "cell_type": "code",
   "execution_count": 15,
   "id": "automotive-flush",
   "metadata": {},
   "outputs": [
    {
     "data": {
      "text/html": [
       "<div>\n",
       "<style scoped>\n",
       "    .dataframe tbody tr th:only-of-type {\n",
       "        vertical-align: middle;\n",
       "    }\n",
       "\n",
       "    .dataframe tbody tr th {\n",
       "        vertical-align: top;\n",
       "    }\n",
       "\n",
       "    .dataframe thead th {\n",
       "        text-align: right;\n",
       "    }\n",
       "</style>\n",
       "<table border=\"1\" class=\"dataframe\">\n",
       "  <thead>\n",
       "    <tr style=\"text-align: right;\">\n",
       "      <th></th>\n",
       "      <th>index</th>\n",
       "      <th>Property_type_count_Boston</th>\n",
       "      <th>Property_type_count_Seattle</th>\n",
       "    </tr>\n",
       "  </thead>\n",
       "  <tbody>\n",
       "    <tr>\n",
       "      <th>0</th>\n",
       "      <td>Apartment</td>\n",
       "      <td>72.920156</td>\n",
       "      <td>45.402148</td>\n",
       "    </tr>\n",
       "    <tr>\n",
       "      <th>1</th>\n",
       "      <td>House</td>\n",
       "      <td>15.689559</td>\n",
       "      <td>44.747184</td>\n",
       "    </tr>\n",
       "    <tr>\n",
       "      <th>2</th>\n",
       "      <td>Condominium</td>\n",
       "      <td>6.448911</td>\n",
       "      <td>3.091433</td>\n",
       "    </tr>\n",
       "    <tr>\n",
       "      <th>3</th>\n",
       "      <td>Townhouse</td>\n",
       "      <td>1.507538</td>\n",
       "      <td>2.384071</td>\n",
       "    </tr>\n",
       "    <tr>\n",
       "      <th>4</th>\n",
       "      <td>Bed &amp; Breakfast</td>\n",
       "      <td>1.144612</td>\n",
       "      <td>1.047943</td>\n",
       "    </tr>\n",
       "    <tr>\n",
       "      <th>5</th>\n",
       "      <td>Loft</td>\n",
       "      <td>1.088777</td>\n",
       "      <td>0.969348</td>\n",
       "    </tr>\n",
       "    <tr>\n",
       "      <th>6</th>\n",
       "      <td>Other</td>\n",
       "      <td>0.474595</td>\n",
       "      <td>0.576369</td>\n",
       "    </tr>\n",
       "    <tr>\n",
       "      <th>7</th>\n",
       "      <td>Boat</td>\n",
       "      <td>0.335008</td>\n",
       "      <td>0.550170</td>\n",
       "    </tr>\n",
       "    <tr>\n",
       "      <th>8</th>\n",
       "      <td>Villa</td>\n",
       "      <td>0.167504</td>\n",
       "      <td>0.340582</td>\n",
       "    </tr>\n",
       "    <tr>\n",
       "      <th>9</th>\n",
       "      <td>Entire Floor</td>\n",
       "      <td>0.111669</td>\n",
       "      <td>0.340582</td>\n",
       "    </tr>\n",
       "    <tr>\n",
       "      <th>10</th>\n",
       "      <td>Dorm</td>\n",
       "      <td>0.055835</td>\n",
       "      <td>0.209589</td>\n",
       "    </tr>\n",
       "    <tr>\n",
       "      <th>11</th>\n",
       "      <td>Guesthouse</td>\n",
       "      <td>0.027917</td>\n",
       "      <td>0.130993</td>\n",
       "    </tr>\n",
       "    <tr>\n",
       "      <th>12</th>\n",
       "      <td>Camper/RV</td>\n",
       "      <td>0.027917</td>\n",
       "      <td>0.078596</td>\n",
       "    </tr>\n",
       "  </tbody>\n",
       "</table>\n",
       "</div>"
      ],
      "text/plain": [
       "              index  Property_type_count_Boston  Property_type_count_Seattle\n",
       "0         Apartment                   72.920156                    45.402148\n",
       "1             House                   15.689559                    44.747184\n",
       "2       Condominium                    6.448911                     3.091433\n",
       "3         Townhouse                    1.507538                     2.384071\n",
       "4   Bed & Breakfast                    1.144612                     1.047943\n",
       "5              Loft                    1.088777                     0.969348\n",
       "6             Other                    0.474595                     0.576369\n",
       "7              Boat                    0.335008                     0.550170\n",
       "8             Villa                    0.167504                     0.340582\n",
       "9      Entire Floor                    0.111669                     0.340582\n",
       "10             Dorm                    0.055835                     0.209589\n",
       "11       Guesthouse                    0.027917                     0.130993\n",
       "12        Camper/RV                    0.027917                     0.078596"
      ]
     },
     "execution_count": 15,
     "metadata": {},
     "output_type": "execute_result"
    },
    {
     "data": {
      "image/png": "[encoded data removed]",
      "text/plain": [
       "<Figure size 432x432 with 1 Axes>"
      ]
     },
     "metadata": {
      "needs_background": "light"
     },
     "output_type": "display_data"
    }
   ],
   "source": [
    "prop_bost['Property_type_count_Boston'] = prop_bost['Property_type_count_Boston']*100/df_bost_final.shape[0]\n",
    "prop_seat['Property_type_count_Seattle'] = prop_seat['Property_type_count_Seattle']*100/df_seat_final.shape[0]\n",
    "df = pd.concat([prop_bost,prop_seat['Property_type_count_Seattle']],axis=1)\n",
    "df.dropna(axis=0, inplace=True)\n",
    "df.plot(x='index',kind='bar',figsize=(6,6)).set(ylabel='Presence', title=\"Property_type and Count\")\n",
    "df"
   ]
  },
  {
   "cell_type": "code",
   "execution_count": 16,
   "id": "basic-reference",
   "metadata": {
    "scrolled": true
   },
   "outputs": [
    {
     "data": {
      "text/plain": [
       "[Text(0, 0.5, 'Price($)')]"
      ]
     },
     "execution_count": 16,
     "metadata": {},
     "output_type": "execute_result"
    },
    {
     "data": {
      "image/png": "[encoded data removed]",
      "text/plain": [
       "<Figure size 504x432 with 1 Axes>"
      ]
     },
     "metadata": {
      "needs_background": "light"
     },
     "output_type": "display_data"
    }
   ],
   "source": [
    "#price variation with property type for boston listings\n",
    "df_bost_prop = df_bost_final.groupby(['property_type']).mean()[['price','monthly_price','weekly_price']].reset_index()\n",
    "df_bost_prop.sort_values(by=['price']).plot(x='property_type',y=['price','monthly_price','weekly_price'],kind='bar',color=['green','purple','red'], figsize=(7,6)).set(ylabel = 'Price($)')"
   ]
  },
  {
   "cell_type": "code",
   "execution_count": 17,
   "id": "sunset-publicity",
   "metadata": {},
   "outputs": [
    {
     "data": {
      "text/plain": [
       "[Text(0, 0.5, 'Price($)')]"
      ]
     },
     "execution_count": 17,
     "metadata": {},
     "output_type": "execute_result"
    },
    {
     "data": {
      "image/png": "[encoded data removed]",
      "text/plain": [
       "<Figure size 504x432 with 1 Axes>"
      ]
     },
     "metadata": {
      "needs_background": "light"
     },
     "output_type": "display_data"
    }
   ],
   "source": [
    "#price variation with property type for seaton listings\n",
    "df_seat_prop = df_seat_final.groupby(['property_type']).mean()[['price','monthly_price','weekly_price']].reset_index()\n",
    "df_seat_prop.sort_values(by=['price']).plot(x='property_type',y=['price','monthly_price','weekly_price'],kind='bar',color=['blue','green','red'], figsize=(7,6)).set(ylabel = 'Price($)')"
   ]
  },
  {
   "cell_type": "code",
   "execution_count": 18,
   "id": "removed-course",
   "metadata": {},
   "outputs": [
    {
     "data": {
      "text/plain": [
       "pandas.core.frame.DataFrame"
      ]
     },
     "execution_count": 18,
     "metadata": {},
     "output_type": "execute_result"
    }
   ],
   "source": [
    "type(df_bost_prop)\n",
    "#['monthly_price']"
   ]
  },
  {
   "cell_type": "code",
   "execution_count": null,
   "id": "fundamental-commission",
   "metadata": {},
   "outputs": [],
   "source": []
  },
  {
   "cell_type": "code",
   "execution_count": 19,
   "id": "primary-november",
   "metadata": {},
   "outputs": [
    {
     "data": {
      "text/html": [
       "<div>\n",
       "<style scoped>\n",
       "    .dataframe tbody tr th:only-of-type {\n",
       "        vertical-align: middle;\n",
       "    }\n",
       "\n",
       "    .dataframe tbody tr th {\n",
       "        vertical-align: top;\n",
       "    }\n",
       "\n",
       "    .dataframe thead th {\n",
       "        text-align: right;\n",
       "    }\n",
       "</style>\n",
       "<table border=\"1\" class=\"dataframe\">\n",
       "  <thead>\n",
       "    <tr style=\"text-align: right;\">\n",
       "      <th></th>\n",
       "      <th>property_type</th>\n",
       "      <th>price</th>\n",
       "      <th>monthly_price</th>\n",
       "      <th>weekly_price</th>\n",
       "    </tr>\n",
       "  </thead>\n",
       "  <tbody>\n",
       "    <tr>\n",
       "      <th>8</th>\n",
       "      <td>Dorm</td>\n",
       "      <td>39.500000</td>\n",
       "      <td>2614.004617</td>\n",
       "      <td>788.600598</td>\n",
       "    </tr>\n",
       "    <tr>\n",
       "      <th>12</th>\n",
       "      <td>Tent</td>\n",
       "      <td>54.000000</td>\n",
       "      <td>2614.004617</td>\n",
       "      <td>788.600598</td>\n",
       "    </tr>\n",
       "    <tr>\n",
       "      <th>11</th>\n",
       "      <td>Other</td>\n",
       "      <td>94.681818</td>\n",
       "      <td>2330.548813</td>\n",
       "      <td>773.482117</td>\n",
       "    </tr>\n",
       "    <tr>\n",
       "      <th>6</th>\n",
       "      <td>Chalet</td>\n",
       "      <td>98.500000</td>\n",
       "      <td>2325.000000</td>\n",
       "      <td>587.500000</td>\n",
       "    </tr>\n",
       "    <tr>\n",
       "      <th>15</th>\n",
       "      <td>Yurt</td>\n",
       "      <td>100.000000</td>\n",
       "      <td>2614.004617</td>\n",
       "      <td>695.000000</td>\n",
       "    </tr>\n",
       "    <tr>\n",
       "      <th>14</th>\n",
       "      <td>Treehouse</td>\n",
       "      <td>101.000000</td>\n",
       "      <td>2614.004617</td>\n",
       "      <td>712.866866</td>\n",
       "    </tr>\n",
       "    <tr>\n",
       "      <th>4</th>\n",
       "      <td>Cabin</td>\n",
       "      <td>104.666667</td>\n",
       "      <td>2308.479489</td>\n",
       "      <td>647.381237</td>\n",
       "    </tr>\n",
       "    <tr>\n",
       "      <th>1</th>\n",
       "      <td>Bed &amp; Breakfast</td>\n",
       "      <td>112.054054</td>\n",
       "      <td>2539.867985</td>\n",
       "      <td>741.913804</td>\n",
       "    </tr>\n",
       "    <tr>\n",
       "      <th>3</th>\n",
       "      <td>Bungalow</td>\n",
       "      <td>115.615385</td>\n",
       "      <td>2431.695149</td>\n",
       "      <td>713.200276</td>\n",
       "    </tr>\n",
       "    <tr>\n",
       "      <th>5</th>\n",
       "      <td>Camper/RV</td>\n",
       "      <td>120.461538</td>\n",
       "      <td>2426.311244</td>\n",
       "      <td>636.400322</td>\n",
       "    </tr>\n",
       "    <tr>\n",
       "      <th>0</th>\n",
       "      <td>Apartment</td>\n",
       "      <td>122.932670</td>\n",
       "      <td>2647.047316</td>\n",
       "      <td>787.847957</td>\n",
       "    </tr>\n",
       "    <tr>\n",
       "      <th>13</th>\n",
       "      <td>Townhouse</td>\n",
       "      <td>129.457627</td>\n",
       "      <td>2708.850666</td>\n",
       "      <td>815.674885</td>\n",
       "    </tr>\n",
       "    <tr>\n",
       "      <th>9</th>\n",
       "      <td>House</td>\n",
       "      <td>132.351414</td>\n",
       "      <td>2572.060394</td>\n",
       "      <td>786.000953</td>\n",
       "    </tr>\n",
       "    <tr>\n",
       "      <th>10</th>\n",
       "      <td>Loft</td>\n",
       "      <td>135.700000</td>\n",
       "      <td>2571.428232</td>\n",
       "      <td>833.860359</td>\n",
       "    </tr>\n",
       "    <tr>\n",
       "      <th>7</th>\n",
       "      <td>Condominium</td>\n",
       "      <td>151.109890</td>\n",
       "      <td>2925.870517</td>\n",
       "      <td>897.009106</td>\n",
       "    </tr>\n",
       "    <tr>\n",
       "      <th>2</th>\n",
       "      <td>Boat</td>\n",
       "      <td>282.375000</td>\n",
       "      <td>2509.878463</td>\n",
       "      <td>742.075448</td>\n",
       "    </tr>\n",
       "  </tbody>\n",
       "</table>\n",
       "</div>"
      ],
      "text/plain": [
       "      property_type       price  monthly_price  weekly_price\n",
       "8              Dorm   39.500000    2614.004617    788.600598\n",
       "12             Tent   54.000000    2614.004617    788.600598\n",
       "11            Other   94.681818    2330.548813    773.482117\n",
       "6            Chalet   98.500000    2325.000000    587.500000\n",
       "15             Yurt  100.000000    2614.004617    695.000000\n",
       "14        Treehouse  101.000000    2614.004617    712.866866\n",
       "4             Cabin  104.666667    2308.479489    647.381237\n",
       "1   Bed & Breakfast  112.054054    2539.867985    741.913804\n",
       "3          Bungalow  115.615385    2431.695149    713.200276\n",
       "5         Camper/RV  120.461538    2426.311244    636.400322\n",
       "0         Apartment  122.932670    2647.047316    787.847957\n",
       "13        Townhouse  129.457627    2708.850666    815.674885\n",
       "9             House  132.351414    2572.060394    786.000953\n",
       "10             Loft  135.700000    2571.428232    833.860359\n",
       "7       Condominium  151.109890    2925.870517    897.009106\n",
       "2              Boat  282.375000    2509.878463    742.075448"
      ]
     },
     "execution_count": 19,
     "metadata": {},
     "output_type": "execute_result"
    }
   ],
   "source": [
    "df_seat_prop.sort_values(by=['price'])"
   ]
  },
  {
   "cell_type": "code",
   "execution_count": 20,
   "id": "improving-superior",
   "metadata": {},
   "outputs": [
    {
     "data": {
      "text/html": [
       "<div>\n",
       "<style scoped>\n",
       "    .dataframe tbody tr th:only-of-type {\n",
       "        vertical-align: middle;\n",
       "    }\n",
       "\n",
       "    .dataframe tbody tr th {\n",
       "        vertical-align: top;\n",
       "    }\n",
       "\n",
       "    .dataframe thead th {\n",
       "        text-align: right;\n",
       "    }\n",
       "</style>\n",
       "<table border=\"1\" class=\"dataframe\">\n",
       "  <thead>\n",
       "    <tr style=\"text-align: right;\">\n",
       "      <th></th>\n",
       "      <th>property_type</th>\n",
       "      <th>price</th>\n",
       "      <th>monthly_price</th>\n",
       "      <th>weekly_price</th>\n",
       "    </tr>\n",
       "  </thead>\n",
       "  <tbody>\n",
       "    <tr>\n",
       "      <th>3</th>\n",
       "      <td>Camper/RV</td>\n",
       "      <td>60.000000</td>\n",
       "      <td>3692.097973</td>\n",
       "      <td>922.392377</td>\n",
       "    </tr>\n",
       "    <tr>\n",
       "      <th>5</th>\n",
       "      <td>Dorm</td>\n",
       "      <td>62.500000</td>\n",
       "      <td>3692.097973</td>\n",
       "      <td>922.392377</td>\n",
       "    </tr>\n",
       "    <tr>\n",
       "      <th>6</th>\n",
       "      <td>Entire Floor</td>\n",
       "      <td>122.000000</td>\n",
       "      <td>3692.097973</td>\n",
       "      <td>922.392377</td>\n",
       "    </tr>\n",
       "    <tr>\n",
       "      <th>1</th>\n",
       "      <td>Bed &amp; Breakfast</td>\n",
       "      <td>129.365854</td>\n",
       "      <td>3378.620221</td>\n",
       "      <td>864.003992</td>\n",
       "    </tr>\n",
       "    <tr>\n",
       "      <th>8</th>\n",
       "      <td>House</td>\n",
       "      <td>131.599644</td>\n",
       "      <td>3247.412835</td>\n",
       "      <td>868.916330</td>\n",
       "    </tr>\n",
       "    <tr>\n",
       "      <th>11</th>\n",
       "      <td>Townhouse</td>\n",
       "      <td>149.037037</td>\n",
       "      <td>4048.874312</td>\n",
       "      <td>1004.479115</td>\n",
       "    </tr>\n",
       "    <tr>\n",
       "      <th>0</th>\n",
       "      <td>Apartment</td>\n",
       "      <td>181.966692</td>\n",
       "      <td>3786.425655</td>\n",
       "      <td>929.002130</td>\n",
       "    </tr>\n",
       "    <tr>\n",
       "      <th>9</th>\n",
       "      <td>Loft</td>\n",
       "      <td>185.410256</td>\n",
       "      <td>3738.388080</td>\n",
       "      <td>970.491376</td>\n",
       "    </tr>\n",
       "    <tr>\n",
       "      <th>12</th>\n",
       "      <td>Villa</td>\n",
       "      <td>189.500000</td>\n",
       "      <td>3210.081644</td>\n",
       "      <td>810.326981</td>\n",
       "    </tr>\n",
       "    <tr>\n",
       "      <th>4</th>\n",
       "      <td>Condominium</td>\n",
       "      <td>190.246753</td>\n",
       "      <td>3676.358064</td>\n",
       "      <td>944.798323</td>\n",
       "    </tr>\n",
       "    <tr>\n",
       "      <th>10</th>\n",
       "      <td>Other</td>\n",
       "      <td>229.941176</td>\n",
       "      <td>3651.386328</td>\n",
       "      <td>977.264310</td>\n",
       "    </tr>\n",
       "    <tr>\n",
       "      <th>2</th>\n",
       "      <td>Boat</td>\n",
       "      <td>268.833333</td>\n",
       "      <td>3902.981982</td>\n",
       "      <td>1208.895553</td>\n",
       "    </tr>\n",
       "    <tr>\n",
       "      <th>7</th>\n",
       "      <td>Guesthouse</td>\n",
       "      <td>289.000000</td>\n",
       "      <td>3692.097973</td>\n",
       "      <td>922.392377</td>\n",
       "    </tr>\n",
       "  </tbody>\n",
       "</table>\n",
       "</div>"
      ],
      "text/plain": [
       "      property_type       price  monthly_price  weekly_price\n",
       "3         Camper/RV   60.000000    3692.097973    922.392377\n",
       "5              Dorm   62.500000    3692.097973    922.392377\n",
       "6      Entire Floor  122.000000    3692.097973    922.392377\n",
       "1   Bed & Breakfast  129.365854    3378.620221    864.003992\n",
       "8             House  131.599644    3247.412835    868.916330\n",
       "11        Townhouse  149.037037    4048.874312   1004.479115\n",
       "0         Apartment  181.966692    3786.425655    929.002130\n",
       "9              Loft  185.410256    3738.388080    970.491376\n",
       "12            Villa  189.500000    3210.081644    810.326981\n",
       "4       Condominium  190.246753    3676.358064    944.798323\n",
       "10            Other  229.941176    3651.386328    977.264310\n",
       "2              Boat  268.833333    3902.981982   1208.895553\n",
       "7        Guesthouse  289.000000    3692.097973    922.392377"
      ]
     },
     "execution_count": 20,
     "metadata": {},
     "output_type": "execute_result"
    }
   ],
   "source": [
    "df_bost_prop.sort_values(by=['price'])"
   ]
  }
 ],
 "metadata": {
  "kernelspec": {
   "display_name": "Python 3",
   "language": "python",
   "name": "python3"
  },
  "language_info": {
   "codemirror_mode": {
    "name": "ipython",
    "version": 3
   },
   "file_extension": ".py",
   "mimetype": "text/x-python",
   "name": "python",
   "nbconvert_exporter": "python",
   "pygments_lexer": "ipython3",
   "version": "3.8.6"
  }
 },
 "nbformat": 4,
 "nbformat_minor": 5
}
